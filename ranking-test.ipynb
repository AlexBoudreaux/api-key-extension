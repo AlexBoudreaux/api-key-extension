{
 "cells": [
  {
   "cell_type": "code",
   "execution_count": 1,
   "metadata": {},
   "outputs": [],
   "source": [
    "# Cell 1: Imports and Data Structures\n",
    "import datetime\n",
    "from dataclasses import dataclass\n",
    "from typing import List, Tuple\n",
    "\n",
    "@dataclass\n",
    "class ApiKey:\n",
    "    id: str\n",
    "    key: str\n",
    "    name: str\n",
    "    created_at: datetime.datetime\n",
    "    last_used: datetime.datetime\n",
    "\n",
    "@dataclass\n",
    "class UrlUsageHistory:\n",
    "    url: str\n",
    "    key_id: str\n",
    "    use_count: int\n",
    "    last_used: datetime.datetime"
   ]
  },
  {
   "cell_type": "code",
   "execution_count": 2,
   "metadata": {},
   "outputs": [],
   "source": [
    "# Cell 2: Global Variables (for simulation)\n",
    "api_keys = []\n",
    "url_usage_history = []\n",
    "recent_keys_cache = {}"
   ]
  },
  {
   "cell_type": "code",
   "execution_count": 3,
   "metadata": {},
   "outputs": [],
   "source": [
    "# Cell 3: Helper Functions\n",
    "def is_recent(api_key: ApiKey, hours: int = 12) -> bool:\n",
    "    return (datetime.datetime.now() - api_key.created_at).total_seconds() < hours * 3600\n",
    "\n",
    "def get_url_usage_history(url: str) -> List[UrlUsageHistory]:\n",
    "    return [usage for usage in url_usage_history if usage.url == url]\n",
    "\n",
    "def recency_bonus(last_used: datetime.datetime) -> float:\n",
    "    hours_ago = (datetime.datetime.now() - last_used).total_seconds() / 3600\n",
    "    return max(24 - hours_ago, 0)"
   ]
  },
  {
   "cell_type": "code",
   "execution_count": 4,
   "metadata": {},
   "outputs": [],
   "source": [
    "# Cell 4: Scoring and Ranking Functions\n",
    "def calculate_score(api_key: ApiKey, current_url: str) -> float:\n",
    "    base_score = 0\n",
    "    if is_recent(api_key):\n",
    "        base_score += 10\n",
    "    usage_history = get_url_usage_history(current_url)\n",
    "    for usage in usage_history:\n",
    "        if usage.key_id == api_key.id:\n",
    "            base_score += min(usage.use_count * 2, 50)\n",
    "            base_score += recency_bonus(usage.last_used)\n",
    "    return base_score\n",
    "\n",
    "def rank_api_keys(api_keys: List[ApiKey], current_url: str) -> List[Tuple[ApiKey, float]]:\n",
    "    scored_keys = [(key, calculate_score(key, current_url)) for key in api_keys]\n",
    "    return sorted(scored_keys, key=lambda x: x[1], reverse=True)\n"
   ]
  },
  {
   "cell_type": "code",
   "execution_count": 5,
   "metadata": {},
   "outputs": [],
   "source": [
    "# Cell 5: Usage Tracking Functions\n",
    "def update_url_usage_history(key_id: str, url: str):\n",
    "    for usage in url_usage_history:\n",
    "        if usage.url == url and usage.key_id == key_id:\n",
    "            usage.use_count += 1\n",
    "            usage.last_used = datetime.datetime.now()\n",
    "            return\n",
    "    url_usage_history.append(UrlUsageHistory(url, key_id, 1, datetime.datetime.now()))\n",
    "\n",
    "def update_recent_keys_cache(key_id: str):\n",
    "    recent_keys_cache[key_id] = datetime.datetime.now()\n",
    "\n",
    "def track_key_usage(key_id: str, url: str):\n",
    "    update_url_usage_history(key_id, url)\n",
    "    update_recent_keys_cache(key_id)\n"
   ]
  },
  {
   "cell_type": "code",
   "execution_count": 6,
   "metadata": {},
   "outputs": [],
   "source": [
    "# Cell 6: Main Function\n",
    "def get_ranked_api_keys(current_url: str) -> List[ApiKey]:\n",
    "    ranked_keys = rank_api_keys(api_keys, current_url)\n",
    "    return [key for key, score in ranked_keys]\n"
   ]
  },
  {
   "cell_type": "code",
   "execution_count": 7,
   "metadata": {},
   "outputs": [],
   "source": [
    "# Cell 7: Test Data Generation\n",
    "def generate_test_data(num_keys: int, num_urls: int, num_usages: int):\n",
    "    global api_keys, url_usage_history, recent_keys_cache\n",
    "    api_keys = []\n",
    "    url_usage_history = []\n",
    "    recent_keys_cache = {}\n",
    "\n",
    "    # Generate API keys\n",
    "    for i in range(num_keys):\n",
    "        created_at = datetime.datetime.now() - datetime.timedelta(days=i)\n",
    "        api_keys.append(ApiKey(f\"key_{i}\", f\"api_key_{i}\", f\"Key {i}\", created_at, created_at))\n",
    "\n",
    "    # Generate URL usage history\n",
    "    urls = [f\"https://example{i}.com\" for i in range(num_urls)]\n",
    "    for _ in range(num_usages):\n",
    "        key = api_keys[_ % num_keys]\n",
    "        url = urls[_ % num_urls]\n",
    "        track_key_usage(key.id, url)\n"
   ]
  },
  {
   "cell_type": "code",
   "execution_count": 8,
   "metadata": {},
   "outputs": [],
   "source": [
    "# Cell 8: Test the implementation\n",
    "def test_ranking(current_url: str):\n",
    "    print(f\"Ranking API keys for URL: {current_url}\")\n",
    "    ranked_keys = get_ranked_api_keys(current_url)\n",
    "    for i, key in enumerate(ranked_keys):\n",
    "        score = calculate_score(key, current_url)\n",
    "        print(f\"{i+1}. {key.name} (Score: {score:.2f})\")\n"
   ]
  },
  {
   "cell_type": "code",
   "execution_count": 9,
   "metadata": {},
   "outputs": [
    {
     "name": "stdout",
     "output_type": "stream",
     "text": [
      "Ranking API keys for URL: https://example0.com\n",
      "1. Key 0 (Score: 38.00)\n",
      "2. Key 3 (Score: 28.00)\n",
      "3. Key 2 (Score: 26.00)\n",
      "4. Key 1 (Score: 26.00)\n",
      "5. Key 4 (Score: 26.00)\n",
      "\n",
      "\n",
      "Ranking API keys for URL: https://example1.com\n",
      "1. Key 0 (Score: 36.00)\n",
      "2. Key 1 (Score: 28.00)\n",
      "3. Key 4 (Score: 28.00)\n",
      "4. Key 3 (Score: 26.00)\n",
      "5. Key 2 (Score: 26.00)\n",
      "\n",
      "\n",
      "Ranking API keys for URL: https://newsite.com\n",
      "1. Key 0 (Score: 10.00)\n",
      "2. Key 1 (Score: 0.00)\n",
      "3. Key 2 (Score: 0.00)\n",
      "4. Key 3 (Score: 0.00)\n",
      "5. Key 4 (Score: 0.00)\n"
     ]
    }
   ],
   "source": [
    "# Cell 9: Run tests\n",
    "generate_test_data(num_keys=5, num_urls=3, num_usages=20)\n",
    "test_ranking(\"https://example0.com\")\n",
    "print(\"\\n\")\n",
    "test_ranking(\"https://example1.com\")\n",
    "print(\"\\n\")\n",
    "test_ranking(\"https://newsite.com\")"
   ]
  }
 ],
 "metadata": {
  "kernelspec": {
   "display_name": "Python 3",
   "language": "python",
   "name": "python3"
  },
  "language_info": {
   "codemirror_mode": {
    "name": "ipython",
    "version": 3
   },
   "file_extension": ".py",
   "mimetype": "text/x-python",
   "name": "python",
   "nbconvert_exporter": "python",
   "pygments_lexer": "ipython3",
   "version": "3.8.11"
  }
 },
 "nbformat": 4,
 "nbformat_minor": 2
}
